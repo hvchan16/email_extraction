{
  "nbformat": 4,
  "nbformat_minor": 0,
  "metadata": {
    "colab": {
      "name": "email_extraction.ipynb",
      "provenance": [],
      "collapsed_sections": []
    },
    "kernelspec": {
      "name": "python3",
      "display_name": "Python 3"
    }
  },
  "cells": [
    {
      "cell_type": "markdown",
      "metadata": {
        "id": "1oDQfp5vSP05"
      },
      "source": [
        "Natural Language Processing\n",
        "Name: Harshvardhan Chauhan\n",
        "\n",
        "Student ID: C0780361\n",
        "\n",
        "References: \n",
        "\n",
        "https://www.python.org/\n",
        "\n",
        "https://regexr.com/"
      ]
    },
    {
      "cell_type": "code",
      "metadata": {
        "id": "ktbwipOZeU7_"
      },
      "source": [
        "import re"
      ],
      "execution_count": null,
      "outputs": []
    },
    {
      "cell_type": "code",
      "metadata": {
        "id": "uaHtFlOLhLzS"
      },
      "source": [
        "def emailsig_extract(lines):\n",
        "\n",
        "  # print(lines)\n",
        "  count = 0\n",
        "  first_line = 0\n",
        "  for line in lines:\n",
        "    name = line\n",
        "    if first_line == 0 and first_line != '':\n",
        "      length = len(name.split())\n",
        "      first_line += 1\n",
        "      if length == 1:\n",
        "        print(\"First Name:\", line)\n",
        "        count +=2\n",
        "      elif length == 2:\n",
        "        print(\"First Name Last Name:\", line)\n",
        "        count +=3\n",
        "      elif length == 3:\n",
        "        print(\"First Name Middle Name Last Name:\", line)\n",
        "        count +=1\n",
        "    # Check Salvation\n",
        "    elif re.match(r'(Mr|Ms|Mrs|Dr)\\.', line):\n",
        "      print(\"Salvation:\",line)\n",
        "      count +=1\n",
        "    # Check Postal Code\n",
        "    elif re.search(r'[A-Za-z]\\d[A-Za-z][ -]?\\d[A-Za-z]\\d$', line):\n",
        "      print(\"Postal Code:\",line)\n",
        "      count +=1\n",
        "    # Mobile Number\n",
        "    elif re.match(r'^(\\+\\d{1,2}\\s)?\\(?\\d{3}\\)?[\\s.-]?\\d{3}[\\s.-]?\\d{4}$', line):\n",
        "      print(\"Mobile Number:\", line)\n",
        "      count +=1\n",
        "    # Email Id\n",
        "    elif re.match(r'(^[a-zA-Z][a-zA-Z0-9._\\-]+@[a-zA-Z0-9]+(\\.[a-zA-Z0-9._\\-]{2,3})+$)', line):\n",
        "      print(\"Email Id:\", line)\n",
        "      count +=1\n",
        "    # Website\n",
        "    elif re.match(r'(http[s]?|ftp)://(?:[a-zA-Z]|[0-9]|[$-_@.&+]|[!*\\(\\),]|(?:%[0-9a-fA-F][0-9a-fA-F]))+', line):\n",
        "      print(\"Website:\",line)\n",
        "      count +=1\n",
        "    # Check Position\n",
        "    else:\n",
        "      print(\"Position:\", line)\n",
        "      count +=1\n",
        "  print(\"Percentage of Email Signature is:\",(count/9)*100,\"%\")\n",
        "      # return count\n",
        "\n",
        "def check_signature(email_text):\n",
        "  pattern = re.search(r\"^(.+)((\\n)(.)+)+$(?!(\\n))\", email_text ,re.MULTILINE)\n",
        "  lines = pattern.group().split('\\n')\n",
        "\n",
        "  if lines:\n",
        "    print(\"Yes the Signature is Present\")\n",
        "    emailsig_extract(lines)"
      ],
      "execution_count": null,
      "outputs": []
    },
    {
      "cell_type": "code",
      "metadata": {
        "colab": {
          "base_uri": "https://localhost:8080/"
        },
        "id": "6Mmc_yWUhR6y",
        "outputId": "5e45b779-72c3-490a-e8b6-32601e530d02"
      },
      "source": [
        "email_text = ''' \n",
        "Hello,\n",
        "I have written this email to test the email signature.\n",
        "\n",
        "Thank You. \n",
        "\n",
        "Harshvardhan Chauhan\n",
        "https://colab.research.google.com/drive/1ffYNBKIEQH5LPlAA0430EjiAPZcZW0Sw#scrollTo=RlNf4qvltA7I\n",
        "Student, Lambton College, \n",
        "+1 647-336-5847\n",
        "Toronto, Ontario, M2H2J2'''\n",
        "check_signature(email_text)"
      ],
      "execution_count": null,
      "outputs": [
        {
          "output_type": "stream",
          "text": [
            "Yes the Signature is Present\n",
            "First Name Last Name: Harshvardhan Chauhan\n",
            "Website: https://colab.research.google.com/drive/1ffYNBKIEQH5LPlAA0430EjiAPZcZW0Sw#scrollTo=RlNf4qvltA7I\n",
            "Position: Student, Lambton College, \n",
            "Mobile Number: +1 647-336-5847\n",
            "Postal Code: Toronto, Ontario, M2H2J2\n",
            "Percentage of Email Signature is: 77.77777777777779 %\n"
          ],
          "name": "stdout"
        }
      ]
    },
    {
      "cell_type": "code",
      "metadata": {
        "id": "D_sEtzXzrFVC"
      },
      "source": [
        ""
      ],
      "execution_count": null,
      "outputs": []
    }
  ]
}